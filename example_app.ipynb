{
  "nbformat": 4,
  "nbformat_minor": 0,
  "metadata": {
    "colab": {
      "provenance": [],
      "mount_file_id": "1H5n3ZB6AZ79_S9P6wsLN0EiG2vyqJn_F",
      "authorship_tag": "ABX9TyNdl2YtO41vv4LBH68C2D9Z",
      "include_colab_link": true
    },
    "kernelspec": {
      "name": "python3",
      "display_name": "Python 3"
    },
    "language_info": {
      "name": "python"
    }
  },
  "cells": [
    {
      "cell_type": "markdown",
      "metadata": {
        "id": "view-in-github",
        "colab_type": "text"
      },
      "source": [
        "<a href=\"https://colab.research.google.com/github/Fetasalyt/TCAMpy/blob/main/example_app.ipynb\" target=\"_parent\"><img src=\"https://colab.research.google.com/assets/colab-badge.svg\" alt=\"Open In Colab\"/></a>"
      ]
    },
    {
      "cell_type": "code",
      "source": [
        "!git clone https://github.com/CsongorLaczko/idmd.git"
      ],
      "metadata": {
        "id": "WVw8zr62kA5_"
      },
      "execution_count": null,
      "outputs": []
    },
    {
      "cell_type": "code",
      "source": [
        "import sys\n",
        "sys.path.insert(0,'/content/idmd')\n",
        "\n",
        "!pip install -r /content/idmd/requirements.txt"
      ],
      "metadata": {
        "collapsed": true,
        "id": "4FCZsnCUkKR7"
      },
      "execution_count": null,
      "outputs": []
    },
    {
      "cell_type": "code",
      "source": [
        "from idmd import (\n",
        "    ColumnManipulatorUI,\n",
        "    DataApp,\n",
        "    DataExporterUI,\n",
        "    DataPreview,\n",
        "    DataStats,\n",
        "    DataVisualizerUI,\n",
        "    FileUploaderUI,\n",
        "    ReplaceUI,\n",
        "    ReportUI,\n",
        ")\n",
        "\n",
        "app = DataApp()\n",
        "(\n",
        "    app.set_column_name(0, \"Description | Manipulation\")\n",
        "    .add_component(FileUploaderUI())\n",
        "    .add_component(DataPreview())\n",
        "    .add_component(DataStats())\n",
        "    .add_component(ReplaceUI())\n",
        "    .add_component(ColumnManipulatorUI())\n",
        "    .add_component(DataExporterUI())\n",
        "    .add_component(ReportUI())\n",
        "    .set_column_name(1, \"Visualization | Export | Report\")\n",
        "    .add_component(DataVisualizerUI(position=1))\n",
        ")\n",
        "\n",
        "app.run()"
      ],
      "metadata": {
        "id": "ZfCGoPB2i9mi"
      },
      "execution_count": null,
      "outputs": []
    }
  ]
}