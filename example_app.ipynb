{
  "nbformat": 4,
  "nbformat_minor": 0,
  "metadata": {
    "colab": {
      "provenance": [],
      "mount_file_id": "1H5n3ZB6AZ79_S9P6wsLN0EiG2vyqJn_F",
      "authorship_tag": "ABX9TyM0yci6rItZJzVsRIWvtqlV",
      "include_colab_link": true
    },
    "kernelspec": {
      "name": "python3",
      "display_name": "Python 3"
    },
    "language_info": {
      "name": "python"
    }
  },
  "cells": [
    {
      "cell_type": "markdown",
      "metadata": {
        "id": "view-in-github",
        "colab_type": "text"
      },
      "source": [
        "<a href=\"https://colab.research.google.com/github/Fetasalyt/TCAMpy/blob/main/example_app.ipynb\" target=\"_parent\"><img src=\"https://colab.research.google.com/assets/colab-badge.svg\" alt=\"Open In Colab\"/></a>"
      ]
    },
    {
      "cell_type": "markdown",
      "source": [
        "Clone the idmd repository:"
      ],
      "metadata": {
        "id": "XH3NLOEem5nR"
      }
    },
    {
      "cell_type": "code",
      "source": [
        "!git clone https://github.com/CsongorLaczko/idmd.git"
      ],
      "metadata": {
        "collapsed": true,
        "id": "WVw8zr62kA5_"
      },
      "execution_count": null,
      "outputs": []
    },
    {
      "cell_type": "markdown",
      "source": [
        "Add to the path:"
      ],
      "metadata": {
        "id": "x14UdhVynAgD"
      }
    },
    {
      "cell_type": "code",
      "source": [
        "import sys\n",
        "sys.path.insert(0,'/content/idmd')"
      ],
      "metadata": {
        "collapsed": true,
        "id": "4FCZsnCUkKR7"
      },
      "execution_count": null,
      "outputs": []
    },
    {
      "cell_type": "markdown",
      "source": [
        "Install the requirements:"
      ],
      "metadata": {
        "id": "CQps3-1DnJF6"
      }
    },
    {
      "cell_type": "code",
      "source": [
        "!pip install -r /content/idmd/requirements.txt"
      ],
      "metadata": {
        "id": "_13QIiB6nIDd"
      },
      "execution_count": null,
      "outputs": []
    },
    {
      "cell_type": "markdown",
      "source": [
        "Create the streamlit app:"
      ],
      "metadata": {
        "id": "4wbtH0vknNRu"
      }
    },
    {
      "cell_type": "code",
      "source": [
        "from idmd import (\n",
        "    ColumnManipulatorUI,\n",
        "    DataApp,\n",
        "    DataExporterUI,\n",
        "    DataPreview,\n",
        "    DataStats,\n",
        "    DataVisualizerUI,\n",
        "    FileUploaderUI,\n",
        "    ReplaceUI,\n",
        "    ReportUI,\n",
        ")\n",
        "\n",
        "app = DataApp()\n",
        "(\n",
        "    app.set_column_name(0, \"Description | Manipulation\")\n",
        "    .add_component(FileUploaderUI())\n",
        "    .add_component(DataPreview())\n",
        "    .add_component(DataStats())\n",
        "    .add_component(ReplaceUI())\n",
        "    .add_component(ColumnManipulatorUI())\n",
        "    .add_component(DataExporterUI())\n",
        "    .add_component(ReportUI())\n",
        "    .set_column_name(1, \"Visualization | Export | Report\")\n",
        "    .add_component(DataVisualizerUI(position=1))\n",
        ")\n",
        "\n",
        "app.run()"
      ],
      "metadata": {
        "id": "ZfCGoPB2i9mi"
      },
      "execution_count": null,
      "outputs": []
    }
  ]
}